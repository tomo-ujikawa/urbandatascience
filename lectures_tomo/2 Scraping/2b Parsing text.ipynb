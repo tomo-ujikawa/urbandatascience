{
 "cells": [
  {
   "cell_type": "markdown",
   "id": "sunrise-lease",
   "metadata": {},
   "source": [
    "## Parsing text"
   ]
  },
  {
   "cell_type": "markdown",
   "id": "extreme-train",
   "metadata": {},
   "source": [
    "## Lecture objectives\n",
    "\n",
    "1. Demonstrate how to parse unstructured text data"
   ]
  },
  {
   "cell_type": "markdown",
   "id": "distinguished-newton",
   "metadata": {},
   "source": [
    "Let's start by loading in the data that we saved at the end of the previous lecture. We can read a pandas dataframe using the `read_pickle()` function. (If we had saved it as a .csv, we'd use `read_csv()`.)"
   ]
  },
  {
   "cell_type": "code",
   "execution_count": null,
   "id": "ancient-console",
   "metadata": {},
   "outputs": [],
   "source": [
    "import pandas as pd\n",
    "smalldf = pd.read_pickle('../scratch/Seattle_permits.pandas')\n",
    "smalldf.head()"
   ]
  },
  {
   "cell_type": "markdown",
   "id": "cardiovascular-scotland",
   "metadata": {},
   "source": [
    "We've already scraped the description for each project. \n",
    "\n",
    "Suppose we want to extract a particular piece of information? For example, how do we get the number of parking spaces? Well, that depends on whether the city uses consistent terminology. \n",
    "\n",
    "You'll need to design a set of rules that cover different possibilities. For example, the description might say \"2 parking spaces\" or \"TWO PARKING SPACES\" or \"1 uncovered and 1 covered parking space.\" Looking at your data is key.\n",
    "\n",
    "For starters, let's take the simplest case. We'll add a column to our dataframe that indicates whether there is \"no parking\" in the project description."
   ]
  },
  {
   "cell_type": "code",
   "execution_count": null,
   "id": "western-digest",
   "metadata": {},
   "outputs": [],
   "source": [
    "# import the numpy library, which underlies pandas\n",
    "# we'll use its nan (null) value to indicate missing data\n",
    "import numpy as np\n",
    "\n",
    "def noparking(description):\n",
    "    # convert the description to lower case\n",
    "    text = description.lower()\n",
    "    if 'no parking' in text:\n",
    "        return True\n",
    "    elif 'zero parking' in text:\n",
    "        return True\n",
    "    elif 'parking' in text:\n",
    "        return False\n",
    "    else:\n",
    "        # capture all other possibilities\n",
    "        return np.nan\n",
    "\n",
    "# Now apply our function\n",
    "smalldf['noparking'] = smalldf.description.apply(noparking)"
   ]
  },
  {
   "cell_type": "code",
   "execution_count": null,
   "id": "2d2dbbca",
   "metadata": {},
   "outputs": [],
   "source": [
    "# look at the output (just the noparking column)\n",
    "smalldf.noparking"
   ]
  },
  {
   "cell_type": "markdown",
   "id": "8df1f315",
   "metadata": {},
   "source": [
    "This is a brute force method of parsing text. We are specifying all the combinations of text that might indicate that there are no parking spaces, and looking to see if any of them are contained in the string.\n",
    "\n",
    "We'll see more sophisticated ways of analyzing text later in the course, but this type of approach is often the simplest and most robust."
   ]
  },
  {
   "cell_type": "markdown",
   "id": "settled-mistress",
   "metadata": {},
   "source": [
    "<div class=\"alert alert-block alert-info\">\n",
    "<strong>Thought exercise:</strong> If you want to get the number of parking spaces for each project, what would be your next step? In principle, how might you do that?\n",
    "</div>"
   ]
  },
  {
   "cell_type": "markdown",
   "id": "embedded-trout",
   "metadata": {},
   "source": [
    "<div class=\"alert alert-block alert-info\">\n",
    "<h3>Key Takeaways</h3>\n",
    "<ul>\n",
    "  <li>The simplest way to parse text is to look for a particular string within a longer string.</li>\n",
    "  <li>Converting to lower case (or upper case) reduces the number of possibilities that you'll have to search for.\n",
    "  <li>The <strong>in</strong> operator is most useful here.</li>\n",
    "</ul>\n",
    "</div>"
   ]
  }
 ],
 "metadata": {
  "kernelspec": {
   "display_name": "Python 3 (ipykernel)",
   "language": "python",
   "name": "python3"
  },
  "language_info": {
   "codemirror_mode": {
    "name": "ipython",
    "version": 3
   },
   "file_extension": ".py",
   "mimetype": "text/x-python",
   "name": "python",
   "nbconvert_exporter": "python",
   "pygments_lexer": "ipython3",
   "version": "3.10.9"
  }
 },
 "nbformat": 4,
 "nbformat_minor": 5
}
