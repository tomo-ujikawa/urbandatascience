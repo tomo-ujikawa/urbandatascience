{
 "cells": [
  {
   "cell_type": "markdown",
   "id": "f01c4105",
   "metadata": {},
   "source": [
    "# Profiling\n",
    "## Lecture objectives\n",
    "\n",
    "1. Demonstrate how to profile the performance of particular functions\n",
    "\n",
    "In the previous lecture, we briefly mentioned profiling as a strategy to handle big data. There are numerous specialist software packages that can help with this, but the basics are straightforward to consider.\n",
    "\n",
    "Profiling means identifying the slowest parts of your code, and thinking about how to speed it up. Sometimes, that will be obvious. But in other cases, you need to profile your code. \n",
    "\n",
    "For example, imagine you have a long text document and you want to identify stopwords. You might want to loop over each row of the `DataFrame` using `iterrows()`. Let's try this using a word list kindly hosted by Prof. Eric Price at MIT. [Here are the details.](https://stackoverflow.com/questions/18834636/random-word-generator-python)"
   ]
  },
  {
   "cell_type": "code",
   "execution_count": null,
   "id": "5799e7ef",
   "metadata": {},
   "outputs": [],
   "source": [
    "import pandas as pd\n",
    "import requests\n",
    "\n",
    "word_site = \"https://www.mit.edu/~ecprice/wordlist.10000\"\n",
    "response = requests.get(word_site)\n",
    "wordDf = pd.DataFrame(response.content.splitlines(), columns=['word'])\n",
    "\n",
    "print(len(wordDf))\n",
    "wordDf.head()"
   ]
  },
  {
   "cell_type": "markdown",
   "id": "5966144f",
   "metadata": {},
   "source": [
    "Let's add a column to indicate whether each word is a stopword.\n",
    "\n",
    "Then, we can loop over each row of the dataframe, and apply a function to that row. Our function will set our `is_stopword` column to `True` if the word is a stopword. (This is a really inefficient way of doing things!)\n",
    "\n",
    "Then, we can use the `%timeit` magic function to see how long it takes to run that line. (A magic function is preceded by `%` - it basically helps you run or analyze your code.)"
   ]
  },
  {
   "cell_type": "code",
   "execution_count": null,
   "id": "99c172fc",
   "metadata": {},
   "outputs": [],
   "source": [
    "from nltk.corpus import stopwords\n",
    "\n",
    "# initialize the column\n",
    "wordDf['is_stopword'] = None\n",
    "\n",
    "# write the function\n",
    "def exclude_stopwords(wdf):\n",
    "    for idx, row in wdf.iterrows():\n",
    "        if row['word'] in stopwords.words('english'):\n",
    "            wdf.loc[idx, 'is_stopword'] = True\n",
    "        else:\n",
    "            wdf.loc[idx, 'is_stopword'] = False\n",
    "    return wdf\n",
    "           \n",
    "# to use %timeit, just put it in front of any function\n",
    "%timeit newdf = exclude_stopwords(wordDf)"
   ]
  },
  {
   "cell_type": "markdown",
   "id": "81cdb046",
   "metadata": {},
   "source": [
    "That took more than 1 second per loop on my computer...not a big deal, but it might matter if you are dealing with tens of thousands of long documents.\n",
    "\n",
    "What about using `apply` with a `lambda` function? For me, it takes just over half the time."
   ]
  },
  {
   "cell_type": "code",
   "execution_count": null,
   "id": "75e60361",
   "metadata": {},
   "outputs": [],
   "source": [
    "%timeit wordDf['is_stopword'] = wordDf.word.apply(lambda x: x in stopwords.words('english'))"
   ]
  },
  {
   "cell_type": "markdown",
   "id": "b5a506c8",
   "metadata": {},
   "source": [
    "What else could we do to speed this up? Perhaps accessing `stopword.words()` each time incurs some overhead. What if we access this once and store it in a separate variable?\n",
    "\n",
    "Here, we use `%%timeit` to time the whole cell rather than a single line."
   ]
  },
  {
   "cell_type": "code",
   "execution_count": null,
   "id": "03393bfa",
   "metadata": {},
   "outputs": [],
   "source": [
    "%%timeit\n",
    "swords = stopwords.words('english')\n",
    "wordDf['is_stopword'] = wordDf.word.apply(lambda x: x in swords)"
   ]
  },
  {
   "cell_type": "markdown",
   "id": "da82f0b6",
   "metadata": {},
   "source": [
    "Much faster!"
   ]
  },
  {
   "cell_type": "markdown",
   "id": "cac96c47",
   "metadata": {},
   "source": [
    "<div class=\"alert alert-block alert-info\">\n",
    "<h3>Key Takeaways</h3>\n",
    "<ul>\n",
    "  <li>The %timeit magic function is a simple way to assess how long a piece of code takes to run.</li>\n",
    "</ul>\n",
    "</div>"
   ]
  }
 ],
 "metadata": {
  "kernelspec": {
   "display_name": "Python 3 (ipykernel)",
   "language": "python",
   "name": "python3"
  },
  "language_info": {
   "codemirror_mode": {
    "name": "ipython",
    "version": 3
   },
   "file_extension": ".py",
   "mimetype": "text/x-python",
   "name": "python",
   "nbconvert_exporter": "python",
   "pygments_lexer": "ipython3",
   "version": "3.10.9"
  }
 },
 "nbformat": 4,
 "nbformat_minor": 5
}
