{
 "cells": [
  {
   "cell_type": "markdown",
   "id": "inner-miracle",
   "metadata": {},
   "source": [
    "# Aggregation"
   ]
  },
  {
   "cell_type": "markdown",
   "id": "coral-veteran",
   "metadata": {},
   "source": [
    "## Lecture objectives\n",
    "\n",
    "1. Demonstrate how to aggregate in `pandas` using `groupby`"
   ]
  },
  {
   "cell_type": "markdown",
   "id": "complicated-muscle",
   "metadata": {},
   "source": [
    "Let's start off by loading the data that we used in the previous lecture, and joining two of the dataframes."
   ]
  },
  {
   "cell_type": "code",
   "execution_count": null,
   "id": "impressive-hobby",
   "metadata": {},
   "outputs": [],
   "source": [
    "import pandas as pd\n",
    "collisionDf = pd.read_csv('../data/Collisions.csv')\n",
    "partyDf = pd.read_csv('../data/Parties.csv')\n",
    "victimDf = pd.read_csv('../data/Victims.csv')\n",
    "collisionDf.set_index('CASE_ID', inplace=True)\n",
    "partyDf.set_index('CASE_ID', inplace=True)\n",
    "joinedDf = collisionDf.join(partyDf, rsuffix='_from_party')\n",
    "joinedDf.head()"
   ]
  },
  {
   "cell_type": "markdown",
   "id": "fabulous-clause",
   "metadata": {},
   "source": [
    "Many of the questions that we want to ask involve some form of aggregation, that creates a useful summary. And for this, `groupby` is the key. Basically, think what you want to aggregate over, and that's the field that you group by.\n",
    "\n",
    "Example: what's the mean of killed and injured people by intoxication status? (Consult the [codebook](https://tims.berkeley.edu/help/SWITRS.php#Party_Level), sometimes called a data dictionary, for an explanation of what each code means.)"
   ]
  },
  {
   "cell_type": "code",
   "execution_count": null,
   "id": "alone-christmas",
   "metadata": {},
   "outputs": [],
   "source": [
    "joinedDf.groupby('PARTY_SOBRIETY')[['NUMBER_KILLED','NUMBER_INJURED']].mean()"
   ]
  },
  {
   "cell_type": "markdown",
   "id": "democratic-driving",
   "metadata": {},
   "source": [
    "<div class=\"alert alert-block alert-info\">\n",
    "<strong>Warning:</strong> Are these accurate averages per collision? What might we need to do (conceptually)?\n",
    "</div>"
   ]
  },
  {
   "cell_type": "markdown",
   "id": "f3406e01",
   "metadata": {},
   "source": [
    "We have the correct mean for the average over parties. \n",
    "\n",
    "But remember that we did a one-to-many join earlier on. Some collisions are therefore duplicated in `joinedDf`, so the simple mean in effect weights collisions by the number of parties."
   ]
  },
  {
   "cell_type": "markdown",
   "id": "restricted-disaster",
   "metadata": {},
   "source": [
    "Sometimes, we need to transform the data first. Let's look at collisions that involve pedestrians."
   ]
  },
  {
   "cell_type": "code",
   "execution_count": null,
   "id": "latin-belief",
   "metadata": {},
   "outputs": [],
   "source": [
    "print(joinedDf.groupby('PARTY_SOBRIETY').PEDESTRIAN_ACCIDENT.mean())"
   ]
  },
  {
   "cell_type": "markdown",
   "id": "35f19f72-90ac-450e-8021-3d4a421c3642",
   "metadata": {},
   "source": [
    "<div class=\"alert alert-block alert-info\">\n",
    "    <strong>Exercise:</strong> What went wrong? <em>Hint:</em> the first step is to look at the data field.\n",
    "</div>"
   ]
  },
  {
   "cell_type": "code",
   "execution_count": null,
   "id": "elegant-titanium",
   "metadata": {
    "code_folding": []
   },
   "outputs": [],
   "source": [
    "print(joinedDf.PEDESTRIAN_ACCIDENT.head())\n",
    "print(joinedDf.PEDESTRIAN_ACCIDENT.unique())"
   ]
  },
  {
   "cell_type": "markdown",
   "id": "fewer-luxembourg",
   "metadata": {},
   "source": [
    "It looks like we are trying to calculate the mean of a column that has `Y` and `NaN` values. `pandas` doesn't know how to do that.\n",
    "\n",
    "We can fix this error by creating a new column, `ped_accident_boolean`, which is `True` if the value is `Y` and `False` otherwise. Then we can take the mean of the boolean column (`True` is considered a `1` and `False` a `0`)."
   ]
  },
  {
   "cell_type": "code",
   "execution_count": null,
   "id": "89b822e9",
   "metadata": {},
   "outputs": [],
   "source": [
    "joinedDf['ped_accident_boolean'] = joinedDf.PEDESTRIAN_ACCIDENT=='Y'\n",
    "# let's look at the results\n",
    "joinedDf[['PEDESTRIAN_ACCIDENT','ped_accident_boolean']].head()"
   ]
  },
  {
   "cell_type": "markdown",
   "id": "89cb555c",
   "metadata": {},
   "source": [
    "This function would do exactly the same, and is easier to adapt if there are multiple values (e.g. `Y`, `N`, or missing) - you can just add more `elif` statements."
   ]
  },
  {
   "cell_type": "code",
   "execution_count": null,
   "id": "annoying-saskatchewan",
   "metadata": {
    "code_folding": [
     0
    ]
   },
   "outputs": [],
   "source": [
    "def convert_to_bool(ped_accident):\n",
    "    if ped_accident=='Y':\n",
    "        return True\n",
    "    else:\n",
    "        return False\n",
    "joinedDf['ped_accident_boolean'] = joinedDf.PEDESTRIAN_ACCIDENT.apply(convert_to_bool)\n",
    "joinedDf[['PEDESTRIAN_ACCIDENT','ped_accident_boolean']].head()"
   ]
  },
  {
   "cell_type": "markdown",
   "id": "4f3cb582",
   "metadata": {},
   "source": [
    "A more elegant and concise way is to use a `lambda` (anonymous) function.\n",
    "\n",
    "Here, the value for `PEDESTRIAN_ACCIDENT` for that row is passed to the function as the variable `x`. Then that function returns `1` if x is `Y`, otherwise `0`."
   ]
  },
  {
   "cell_type": "code",
   "execution_count": null,
   "id": "fdd95796",
   "metadata": {},
   "outputs": [],
   "source": [
    "joinedDf['ped_accident_boolean'] = joinedDf.PEDESTRIAN_ACCIDENT.apply(\n",
    "                                        lambda x: True if x=='Y' else False)\n",
    "\n",
    "joinedDf[['PEDESTRIAN_ACCIDENT','ped_accident_boolean']].head()"
   ]
  },
  {
   "cell_type": "markdown",
   "id": "33eab484",
   "metadata": {},
   "source": [
    "Now we can look at the results using `groupby`. For parties of different sobriety states, what are the proportions of pedestrian accidents? "
   ]
  },
  {
   "cell_type": "code",
   "execution_count": null,
   "id": "1f18ba18",
   "metadata": {},
   "outputs": [],
   "source": [
    "print(joinedDf.groupby('PARTY_SOBRIETY').ped_accident_boolean.mean())"
   ]
  },
  {
   "cell_type": "markdown",
   "id": "deb659b0",
   "metadata": {},
   "source": [
    "It's not just means that you can generate with `groupby`. Standard deviations, counts, sums, and more are available. [See the documentation](https://pandas.pydata.org/pandas-docs/stable/user_guide/groupby.html) for more examples of this very powerful function.\n",
    "\n",
    "You can also group by the index, rather than a column, using `level=0`. This is useful if (say) your observations are indexed by census tract, and you want to calculate tract-level means or sums.\n",
    "\n",
    "We can set `PARTY_SOBRIETY` as the index to illustrate this."
   ]
  },
  {
   "cell_type": "code",
   "execution_count": null,
   "id": "5c97eddb",
   "metadata": {},
   "outputs": [],
   "source": [
    "# size() gives the number of rows in each group\n",
    "print(joinedDf.groupby('PARTY_SOBRIETY').ped_accident_boolean.size())\n",
    "\n",
    "# identical results if we set the index to PARTY_SOBRIETY and group by the index\n",
    "tmpDf = joinedDf.set_index('PARTY_SOBRIETY')\n",
    "print(tmpDf.groupby(level=0).ped_accident_boolean.size())\n",
    "\n",
    "# or if we do the above in a single line\n",
    "print(joinedDf.set_index('PARTY_SOBRIETY').groupby(level=0).ped_accident_boolean.size())"
   ]
  },
  {
   "cell_type": "code",
   "execution_count": null,
   "id": "6b3696dc",
   "metadata": {},
   "outputs": [],
   "source": [
    "# sum gives the group-wise totals, i.e. the number of True values\n",
    "print(joinedDf.groupby('PARTY_SOBRIETY').ped_accident_boolean.sum())"
   ]
  },
  {
   "cell_type": "markdown",
   "id": "duplicate-hollow",
   "metadata": {},
   "source": [
    "<div class=\"alert alert-block alert-info\">\n",
    "<h3>Key Takeaways</h3>\n",
    "<ul>\n",
    "  <li>Group-wise means, totals, and sums are easy to compute using groupby.</li>\n",
    "</ul>\n",
    "</div>"
   ]
  }
 ],
 "metadata": {
  "kernelspec": {
   "display_name": "Python 3 (ipykernel)",
   "language": "python",
   "name": "python3"
  },
  "language_info": {
   "codemirror_mode": {
    "name": "ipython",
    "version": 3
   },
   "file_extension": ".py",
   "mimetype": "text/x-python",
   "name": "python",
   "nbconvert_exporter": "python",
   "pygments_lexer": "ipython3",
   "version": "3.10.9"
  }
 },
 "nbformat": 4,
 "nbformat_minor": 5
}
