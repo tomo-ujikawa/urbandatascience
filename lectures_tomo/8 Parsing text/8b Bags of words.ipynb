{
 "cells": [
  {
   "cell_type": "markdown",
   "id": "89e060b8",
   "metadata": {},
   "source": [
    "# Bags of words"
   ]
  },
  {
   "cell_type": "markdown",
   "id": "08ee7a19",
   "metadata": {},
   "source": [
    "## Lecture objectives\n",
    "1. Explore text analysis through simple word counts\n",
    "2. Discuss how to visualize bags of words"
   ]
  },
  {
   "cell_type": "markdown",
   "id": "06e48689",
   "metadata": {},
   "source": [
    "In the previous lecture, we parsed the PDF and obtained a clean string. Now, we can do something with that string that requires an understanding of the language - i.e., natural language processing.\n",
    "\n",
    "We'll focus on English-language parsing. Many of the principles are applicable to other languages too.\n",
    "\n",
    "First, let's load in the text file that we created in the previous lecture. It's the same `open` function, but we'll use `r` (read) rather than `w` (write)."
   ]
  },
  {
   "cell_type": "code",
   "execution_count": null,
   "id": "687ac868",
   "metadata": {},
   "outputs": [],
   "source": [
    "with open('../scratch/eirtext.txt','r') as f:\n",
    "    eirtext = f.read()\n",
    "print(len(eirtext))"
   ]
  },
  {
   "cell_type": "markdown",
   "id": "a576351a",
   "metadata": {},
   "source": [
    "## Word counts\n",
    "One of the simplest ways to analyze a text is to look at the raw count of words.\n",
    "\n",
    "Let's write a function to take a piece of text, and return a DataFrame with word counts. \n",
    "\n",
    "What do we do? First, create an empty dictionary to hold our counts. The keys will be the words, and the values the counts."
   ]
  },
  {
   "cell_type": "code",
   "execution_count": null,
   "id": "f0fb06c0",
   "metadata": {},
   "outputs": [],
   "source": [
    "counts = {}"
   ]
  },
  {
   "cell_type": "markdown",
   "id": "f378d1fb",
   "metadata": {},
   "source": [
    "Then, let's split our text into a list of words. `split()` splits a string by any character - the default is a space. \n",
    "\n",
    "For example:"
   ]
  },
  {
   "cell_type": "code",
   "execution_count": null,
   "id": "af492098",
   "metadata": {},
   "outputs": [],
   "source": [
    "'This is a sentence'.split()"
   ]
  },
  {
   "cell_type": "markdown",
   "id": "3c7419a0",
   "metadata": {},
   "source": [
    "Or split by the hyphens."
   ]
  },
  {
   "cell_type": "code",
   "execution_count": null,
   "id": "db7f3d93",
   "metadata": {},
   "outputs": [],
   "source": [
    "'This-is-a-sequence of words'.split('-')"
   ]
  },
  {
   "cell_type": "markdown",
   "id": "aedb7d86",
   "metadata": {},
   "source": [
    "So now let's do that with our EIR text."
   ]
  },
  {
   "cell_type": "code",
   "execution_count": null,
   "id": "b2d74aa4",
   "metadata": {},
   "outputs": [],
   "source": [
    "wordlist = eirtext.split()"
   ]
  },
  {
   "cell_type": "markdown",
   "id": "69386948-c743-4070-b849-da601796f39e",
   "metadata": {},
   "source": [
    "We have a list of words - `wordlist`. Let's look at the first few."
   ]
  },
  {
   "cell_type": "code",
   "execution_count": null,
   "id": "631a3386-c323-4e0d-81f6-2a0ebcd6ab54",
   "metadata": {},
   "outputs": [],
   "source": [
    "wordlist[:10]"
   ]
  },
  {
   "cell_type": "markdown",
   "id": "1e4bb4f9",
   "metadata": {},
   "source": [
    "Let's loop over them.\n",
    "\n",
    "If that word already exists in our dictionary, we add 1 to the value. Otherwise, we create a new key and a value of 1."
   ]
  },
  {
   "cell_type": "code",
   "execution_count": null,
   "id": "c6509dfc",
   "metadata": {},
   "outputs": [],
   "source": [
    "for word in wordlist:\n",
    "    lword = word.lower() # convert to lowercase\n",
    "    if lword in counts:\n",
    "        counts[lword] +=1\n",
    "    else:\n",
    "        # doesn't exist in the dictionary\n",
    "        counts[lword] = 1"
   ]
  },
  {
   "cell_type": "code",
   "execution_count": null,
   "id": "66e5b873-2fdb-4e6c-90d7-e1a266168c2f",
   "metadata": {},
   "outputs": [],
   "source": [
    "# look at a few\n",
    "print(counts['rail'])\n",
    "print(counts['California'])"
   ]
  },
  {
   "cell_type": "markdown",
   "id": "9dbebd44-12e2-4318-8e60-1e475e9d1a10",
   "metadata": {},
   "source": [
    "<div class=\"alert alert-block alert-info\">\n",
    "<strong>Exercise:</strong> What went wrong?\n",
    "</div>"
   ]
  },
  {
   "cell_type": "markdown",
   "id": "b4b05e13-cd2c-4a66-9819-0cf6305d2579",
   "metadata": {},
   "source": [
    "The `KeyError` tells you that California is not a key in the dictionary? Why not? We converted everything to lower case!"
   ]
  },
  {
   "cell_type": "code",
   "execution_count": null,
   "id": "ece64c6e-fa54-4ce1-9040-e3c6e2efdb7a",
   "metadata": {},
   "outputs": [],
   "source": [
    "print(counts['rail'])\n",
    "print(counts['california'])"
   ]
  },
  {
   "cell_type": "markdown",
   "id": "3a217468",
   "metadata": {},
   "source": [
    "Let's convert this dictionary to a DataFrame, sort it by the word count column, and add a name to the index."
   ]
  },
  {
   "cell_type": "code",
   "execution_count": null,
   "id": "70b2bf1d",
   "metadata": {},
   "outputs": [],
   "source": [
    "import pandas as pd\n",
    "df = pd.DataFrame.from_dict(counts, orient='index', columns=['word_count'])\n",
    "df.sort_values('word_count', ascending=False, inplace=True)\n",
    "df.index.name = 'word'\n",
    "df.head(10)"
   ]
  },
  {
   "cell_type": "markdown",
   "id": "c3ac0c16",
   "metadata": {},
   "source": [
    "<div class=\"alert alert-block alert-info\">\n",
    "<strong>Exercise:</strong> Turn the preceding steps into a function. The argument should be a list of words, and the function should return a DataFrame.\n",
    "</div>"
   ]
  },
  {
   "cell_type": "markdown",
   "id": "092d8664",
   "metadata": {},
   "source": [
    "Here, we just take all the code above, indent it, and give the function a name (`countWords`), an argument (`wordlist`), and a `return` statement."
   ]
  },
  {
   "cell_type": "code",
   "execution_count": null,
   "id": "9cca449e",
   "metadata": {
    "code_folding": [
     0
    ]
   },
   "outputs": [],
   "source": [
    "def countWords(wordlist):\n",
    "    counts = {} \n",
    "    \n",
    "    for word in wordlist:\n",
    "        lword = word.lower()\n",
    "        if lword in counts:\n",
    "            counts[lword] +=1\n",
    "        else:\n",
    "            counts[lword] = 1\n",
    "\n",
    "    df = pd.DataFrame.from_dict(counts, orient='index', columns=['word_count'])\n",
    "    df.sort_values('word_count', ascending=False, inplace=True)\n",
    "    df.index.name = 'word'\n",
    "    \n",
    "    return df\n",
    "\n",
    "wordlist = eirtext.split()\n",
    "df = countWords(wordlist)\n",
    "df.head(10)"
   ]
  },
  {
   "cell_type": "markdown",
   "id": "158ad813-ae67-44bf-a75e-81e68d2512da",
   "metadata": {},
   "source": [
    "## Visualizing bags of words\n",
    "Usually, the best way to visualize bags of words is a simple bar chart."
   ]
  },
  {
   "cell_type": "code",
   "execution_count": null,
   "id": "a9bc05c1-76ea-4fbf-a01c-85cd99722b95",
   "metadata": {},
   "outputs": [],
   "source": [
    "df.head(40).plot(kind='bar')  # you can also do hbar"
   ]
  },
  {
   "cell_type": "markdown",
   "id": "c9c3d0bf-f15c-4f02-9857-2257a04122e9",
   "metadata": {},
   "source": [
    "There are also Python libraries like `wordcloud` that you can experiment with to generate word clouds and similar plots.\n",
    "\n",
    "A major downside of word clouds are that the images are subtly biased. For example, longer words take up more space. However, they can be a nice visual to motivate an analysis.\n",
    "\n",
    "Looking at the plot above, it's dominated by the \"small\" words like \"the,\" \"and,\" and \"of.\" Perhaps it's distracting to include them in the analysis. We'll explore this question in the next lecture."
   ]
  },
  {
   "cell_type": "markdown",
   "id": "b453f388",
   "metadata": {},
   "source": [
    "<div class=\"alert alert-block alert-info\">\n",
    "<h3>Key Takeaways</h3>\n",
    "<ul>\n",
    "  <li>Word counts (bags of words) are normally a helpful first step in analyzing a text.</li>\n",
    "</ul>\n",
    "</div>"
   ]
  }
 ],
 "metadata": {
  "kernelspec": {
   "display_name": "Python 3 (ipykernel)",
   "language": "python",
   "name": "python3"
  },
  "language_info": {
   "codemirror_mode": {
    "name": "ipython",
    "version": 3
   },
   "file_extension": ".py",
   "mimetype": "text/x-python",
   "name": "python",
   "nbconvert_exporter": "python",
   "pygments_lexer": "ipython3",
   "version": "3.10.9"
  }
 },
 "nbformat": 4,
 "nbformat_minor": 5
}
